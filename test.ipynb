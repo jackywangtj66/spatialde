{
 "cells": [
  {
   "cell_type": "code",
   "execution_count": 17,
   "metadata": {
    "metadata": {}
   },
   "outputs": [],
   "source": [
    "import numpy as np\n",
    "from function import RBF_kernel,linear_kernel\n",
    "from sklearn.metrics.pairwise import laplacian_kernel,rbf_kernel\n",
    "import scipy\n",
    "from scipy.stats import multivariate_normal\n",
    "from scipy.stats._multivariate import _PSD\n",
    "from scipy.stats._multivariate import multivariate_normal_gen\n",
    "#np.random.seed(1234)\n",
    "import time\n",
    "import os\n",
    "import psutil\n",
    "import gc\n",
    "import pandas as pd\n",
    "from scipy.sparse import csr_matrix\n",
    "# path = '/Users/lilingyu/E/PhD/Python/'\n",
    "# path = '/storage3/yhhuang/users/lingyu/'\n",
    "# path = '/data/users/lingyu/'\n",
    "# path = '/home/lly/Python/'\n",
    "#path = '/mnt/lingyu/nfs_share2/Python/'\n",
    "path = '/mnt/jackywang/nfs_share2/spatialde'"
   ]
  },
  {
   "cell_type": "code",
   "execution_count": 7,
   "metadata": {},
   "outputs": [
    {
     "data": {
      "text/plain": [
       "[[0, 0, 0], [0, 0, 0], [0, 0, 0]]"
      ]
     },
     "execution_count": 7,
     "metadata": {},
     "output_type": "execute_result"
    }
   ],
   "source": [
    "b = [[0]*3] *3\n",
    "b"
   ]
  },
  {
   "cell_type": "code",
   "execution_count": 3,
   "metadata": {},
   "outputs": [],
   "source": [
    "row = np.array([0, 2, 1, 2, 2, 0])\n",
    "col = np.array([0, 2, 2, 0, 1, 2])\n",
    "data = np.array([1, 2, 3, 4, 5, 6])\n",
    "a = csr_matrix((data, (row, col)), shape=(3, 3)).toarray()"
   ]
  },
  {
   "cell_type": "code",
   "execution_count": 8,
   "metadata": {},
   "outputs": [
    {
     "data": {
      "text/plain": [
       "array([[1, 0, 6],\n",
       "       [4, 5, 2]])"
      ]
     },
     "execution_count": 8,
     "metadata": {},
     "output_type": "execute_result"
    }
   ],
   "source": [
    "l = [0,2]\n",
    "a[l]"
   ]
  },
  {
   "cell_type": "code",
   "execution_count": 15,
   "metadata": {},
   "outputs": [
    {
     "data": {
      "text/plain": [
       "array([[1, 0, 6],\n",
       "       [0, 0, 3],\n",
       "       [4, 5, 2]])"
      ]
     },
     "execution_count": 15,
     "metadata": {},
     "output_type": "execute_result"
    }
   ],
   "source": [
    "a"
   ]
  },
  {
   "cell_type": "code",
   "execution_count": 16,
   "metadata": {},
   "outputs": [
    {
     "data": {
      "text/plain": [
       "array([[7.16531311e-01, 2.55615332e-02],\n",
       "       [1.31237287e-02, 7.16531311e-01],\n",
       "       [3.05902321e-07, 1.67017008e-05]])"
      ]
     },
     "execution_count": 16,
     "metadata": {},
     "output_type": "execute_result"
    }
   ],
   "source": [
    "b = a + np.identity(3)\n",
    "rbf_kernel(a,b[[0,1]])"
   ]
  },
  {
   "cell_type": "code",
   "execution_count": 18,
   "metadata": {},
   "outputs": [],
   "source": [
    "def RBF_kernel(X, l):\n",
    "    X = np.array(X)\n",
    "    Xsq = np.sum(np.square(X), 1)\n",
    "    R2 = -2. * np.dot(X, X.T) + (Xsq[:, None] + Xsq[None, :])\n",
    "    return np.exp(-R2 / (2 * l ** 2))\n",
    "\n",
    "def linear_kernel(X):\n",
    "    K = np.dot(X, X.T)\n",
    "    return K / K.max()"
   ]
  },
  {
   "cell_type": "code",
   "execution_count": 19,
   "metadata": {
    "metadata": {}
   },
   "outputs": [],
   "source": [
    "class Kernel:\n",
    "\n",
    "    def __init__(self,spatial,ss_loc,cov=None,dependency=None,d=5,kernel='laplacian',l=0.01):\n",
    "        \"\"\"\n",
    "        number of superspots: M\n",
    "        cov: full pre-determined covariance matrix\n",
    "        dependency format: M-length list of lists, the i-th element indicates the superspots that the i-th superspot is dependent on\n",
    "        ss_loc: M-length list of lists, the i-th element indicates the spots (ordinal) that the i-th superspots contain\n",
    "        spatial: spatial coordinates of all spots\n",
    "        l: hyperparameter for kernel\n",
    "        \"\"\"\n",
    "        super().__init__()\n",
    "        # if mean.ndim == 1:\n",
    "        #     self.all_mean = np.array(mean)[:,np.newaxis]\n",
    "        # else:\n",
    "        #     self.all_mean = np.array(mean)       \n",
    "        self.all_cov = cov\n",
    "        self.dependency = dependency   # temporarily assuming dependency[i] > i \n",
    "        self.M = len(dependency)\n",
    "        self.N = len(spatial)\n",
    "        self.ss_loc = ss_loc\n",
    "        self.spatial = spatial\n",
    "        self.cond_mean = None\n",
    "        self.l = l\n",
    "        self.d = d\n",
    "        self.A = []\n",
    "        self.cond_cov = []\n",
    "        self._initialize()\n",
    "    \n",
    "    def _initialize(self):\n",
    "        self._init_ds_loc()\n",
    "        self._init_ds_eig()\n",
    "        self._init_base_cond_cov()        \n",
    "        #self._init_cond_cov()\n",
    "\n",
    "    def _init_ds_loc(self):\n",
    "        self.ds_loc = []        \n",
    "        for i,ds in enumerate(self.dependency):\n",
    "           ind = []\n",
    "           for ss in ds:\n",
    "               ind += self.ss_loc[ss]\n",
    "           self.ds_loc.append(ind)\n",
    "\n",
    "            \n",
    "\n",
    "    \n",
    "    def _init_ds_eig(self):\n",
    "        #C_m,C_m\n",
    "        #print('de_eig')\n",
    "        self.ds_eig = []\n",
    "        for i,loc in enumerate(self.ds_loc):\n",
    "            ds_cov = self.all_cov[np.ix_(loc,loc)]\n",
    "            if len(ds_cov) == 0:\n",
    "                self.ds_eig.append(())\n",
    "                self.A.append(())\n",
    "            else:\n",
    "                s,u = scipy.linalg.eigh(ds_cov)\n",
    "                #s_inv = _pinv_1d(s)\n",
    "                self.ds_eig.append((s,u))\n",
    "                self.A.append(self.all_cov[np.ix_(self.ss_loc[i],loc)] @ u)\n",
    "    \n",
    "    def _init_base_cond_cov(self):\n",
    "        #print('base_cond')\n",
    "        for i,loc in enumerate(self.ds_loc):\n",
    "            if len(loc) == 0:\n",
    "                self.cond_cov.append(self.all_cov[np.ix_(self.ss_loc[i],self.ss_loc[i])])\n",
    "            else:\n",
    "                self.cond_cov.append(self.all_cov[np.ix_(self.ss_loc[i],self.ss_loc[i])] - np.multiply(1/self.ds_eig[i][0],self.A[i])@self.A[i].T)\n",
    "\n",
    "    def update_cond_cov(self,delta):\n",
    "        self.cond_cov_eig = []\n",
    "        for i in range(self.M):\n",
    "            if len(self.dependency[i]) == 0:\n",
    "                #self.cond_cov.append(self.kernel.base_cond_cov[i]+self.delta*np.eye(len(self.kernel.ss_loc[i])))\n",
    "                s,u = scipy.linalg.eigh(self.cond_cov[i]+delta*np.eye(len(self.ss_loc[i])))\n",
    "            else:\n",
    "                s,u = scipy.linalg.eigh(self.cond_cov[i]+delta*np.eye(len(self.ss_loc[i]))+delta*np.multiply(1/((self.ds_eig[i][0]+delta)*self.ds_eig[i][0]),self.A[i])@self.A[i].T)\n",
    "            self.cond_cov_eig.append((s,u))\n",
    "\n",
    "\n",
    "\n",
    "class Gaussian:\n",
    "    def __init__(self,kernel,mean=0,sigma_sq=1,delta=1) -> None:\n",
    "        assert isinstance(kernel,Kernel)\n",
    "        mean = np.array(mean)\n",
    "        self.kernel = kernel\n",
    "        # mean should be N*1\n",
    "        if mean.ndim == 1:\n",
    "            self.mean = np.array(mean)[:,np.newaxis]\n",
    "        if mean.ndim == 0:\n",
    "            self.mean = np.repeat(mean,kernel.N)[:,np.newaxis]\n",
    "        self.sigma_sq = sigma_sq\n",
    "        self.delta = delta\n",
    "        self.cond_eig = []\n",
    "        self.temp = []\n",
    "\n",
    "    def update_cond_mean(self,Y):\n",
    "        self.cond_dev = Y - self.mean\n",
    "        dev = Y - self.mean\n",
    "        for i in range(self.kernel.M):\n",
    "            if len(self.kernel.dependency[i]) > 0:\n",
    "                # print(self.delta)\n",
    "                # print(np.multiply(1/(self.kernel.ds_eig[i][0]+self.delta),self.kernel.A[i]) @ self.kernel.ds_eig[i][1].T @ dev[self.kernel.ds_loc[i],:])\n",
    "                self.cond_dev[self.kernel.ss_loc[i],:] = self.cond_dev[self.kernel.ss_loc[i],:] - np.multiply(1/(self.kernel.ds_eig[i][0]+self.delta),self.kernel.A[i]) @ self.kernel.ds_eig[i][1].T @ dev[self.kernel.ds_loc[i],:]\n",
    "\n",
    "\n",
    "    def ll_sep(self,Y):\n",
    "        \"\"\"\n",
    "        Y: observation of dimension N*G\n",
    "        \"\"\"\n",
    "        N,G = Y.shape\n",
    "        ll = np.log(2 * np.pi)*N + 2*np.log(self.sigma_sq)*N\n",
    "        result = np.array([ll]*G)\n",
    "        self.kernel.update_cond_cov(self.delta)\n",
    "        self.update_cond_mean(Y)\n",
    "        for i in range(self.kernel.M):\n",
    "            det = np.prod(self.kernel.cond_cov_eig[i][0])\n",
    "            result += np.log(det)\n",
    "            # print(self.kernel.ss_loc[i])\n",
    "            # print(self.kernel.A[i])\n",
    "            temp = self.cond_dev[self.kernel.ss_loc[i],:].T @ self.kernel.cond_cov_eig[i][1]\n",
    "            result += np.sum(np.multiply(1/self.kernel.cond_cov_eig[i][0],np.square(temp)),axis=1)/self.sigma_sq\n",
    "        return result*-0.5"
   ]
  },
  {
   "cell_type": "markdown",
   "metadata": {},
   "source": [
    "# Test1"
   ]
  },
  {
   "cell_type": "code",
   "execution_count": 7,
   "metadata": {},
   "outputs": [
    {
     "data": {
      "text/plain": [
       "(9000, 2)"
      ]
     },
     "execution_count": 7,
     "metadata": {},
     "output_type": "execute_result"
    }
   ],
   "source": [
    "N = 9000\n",
    "spatial = []\n",
    "dependency = []\n",
    "for i in range(30):\n",
    "    for j in range(30):\n",
    "        spatial.append(np.random.multivariate_normal(0.5*np.array([j-1,1-i]),np.identity(2)*0.4,10))\n",
    "        d = []\n",
    "        for i_i in range(i-5,i+1):\n",
    "            for j_j in range(j-4,j+5):\n",
    "                if i_i > -1 and j_j > -1 and j_j < 30 and not(i_i == i and j_j > j):\n",
    "                    d.append((i_i)*30+j_j)\n",
    "        d.pop()\n",
    "        dependency.append(d)\n",
    "\n",
    "# N = 90\n",
    "# spatial = []\n",
    "# dependency = []\n",
    "# for i in range(3):\n",
    "#     for j in range(3):\n",
    "#         spatial.append(np.random.multivariate_normal(0.5*np.array([j-1,1-i]),np.identity(2)*0.4,10))\n",
    "#         d = []\n",
    "#         for i_i in range(i-12,i+1):\n",
    "#             for j_j in range(j-8,j+9):\n",
    "#                 if i_i > -1 and j_j > -1 and j_j < 3 and not(i_i == i and j_j > j):\n",
    "#                     d.append((i_i)*3+j_j)\n",
    "#         d.pop()\n",
    "#         dependency.append(d)\n",
    "#         print(j-1,1-i,d)\n",
    "spatial = np.vstack(spatial)\n",
    "spatial.shape"
   ]
  },
  {
   "cell_type": "code",
   "execution_count": 5,
   "metadata": {},
   "outputs": [],
   "source": [
    "mean = np.zeros(N)\n",
    "cov = laplacian_kernel(spatial)\n",
    "Y = np.random.multivariate_normal(mean,cov+np.identity(9000),2)\n",
    "# cov = np.load('cov.npy')\n",
    "# Y = np.load('Y.npy')\n",
    "# spatial = np.load('spatial.npy')"
   ]
  },
  {
   "cell_type": "code",
   "execution_count": 7,
   "metadata": {},
   "outputs": [
    {
     "name": "stdout",
     "output_type": "stream",
     "text": [
      "eps: 1.1422820943427486e-07\n"
     ]
    }
   ],
   "source": [
    "pid = os.getpid()\n",
    "p = psutil.Process(pid)\n",
    "info = p.memory_full_info()\n",
    "memory_1 = info.uss/1024\n",
    "\n",
    "likelihood_4 = multivariate_normal.logpdf(Y, mean, cov+np.identity(9000))\n",
    "likelihood_4\n",
    "\n",
    "info = p.memory_full_info()\n",
    "memory_2 = info.uss/1024"
   ]
  },
  {
   "cell_type": "code",
   "execution_count": 8,
   "metadata": {},
   "outputs": [
    {
     "data": {
      "text/plain": [
       "3348.0"
      ]
     },
     "execution_count": 8,
     "metadata": {},
     "output_type": "execute_result"
    }
   ],
   "source": [
    "memory_2-memory_1"
   ]
  },
  {
   "cell_type": "code",
   "execution_count": 9,
   "metadata": {},
   "outputs": [
    {
     "data": {
      "text/plain": [
       "1760516.0"
      ]
     },
     "execution_count": 9,
     "metadata": {},
     "output_type": "execute_result"
    }
   ],
   "source": [
    "memory_2"
   ]
  },
  {
   "cell_type": "code",
   "execution_count": 21,
   "metadata": {},
   "outputs": [],
   "source": [
    "#ss_loc = [list(range(10*i, 10*(i+1))) for i in range(9)]\n",
    "ss_loc = [list(range(10*i, 10*(i+1))) for i in range(900)]\n",
    "\n",
    "pid = os.getpid()\n",
    "p = psutil.Process(pid)\n",
    "info = p.memory_full_info()\n",
    "memory_1 = info.uss/1024\n",
    "\n",
    "kernel = Kernel(spatial,ss_loc,cov=cov,dependency=dependency)"
   ]
  },
  {
   "cell_type": "code",
   "execution_count": 22,
   "metadata": {},
   "outputs": [],
   "source": [
    "gaussian = Gaussian(kernel)"
   ]
  },
  {
   "cell_type": "code",
   "execution_count": 23,
   "metadata": {},
   "outputs": [],
   "source": [
    "gaussian.ll_sep(Y.T)\n",
    "info = p.memory_full_info()\n",
    "memory_2 = info.uss/1024"
   ]
  },
  {
   "cell_type": "code",
   "execution_count": 24,
   "metadata": {},
   "outputs": [
    {
     "data": {
      "text/plain": [
       "array([-13589.14626397, -13671.29626979])"
      ]
     },
     "execution_count": 24,
     "metadata": {},
     "output_type": "execute_result"
    }
   ],
   "source": [
    "gaussian.ll_sep(Y.T)"
   ]
  },
  {
   "cell_type": "code",
   "execution_count": 25,
   "metadata": {},
   "outputs": [
    {
     "data": {
      "text/plain": [
       "array([-13579.54258453, -13659.94757558])"
      ]
     },
     "execution_count": 25,
     "metadata": {},
     "output_type": "execute_result"
    }
   ],
   "source": [
    "likelihood_4"
   ]
  },
  {
   "cell_type": "code",
   "execution_count": 31,
   "metadata": {},
   "outputs": [
    {
     "data": {
      "text/plain": [
       "4444052.0"
      ]
     },
     "execution_count": 31,
     "metadata": {},
     "output_type": "execute_result"
    }
   ],
   "source": [
    "memory_2"
   ]
  },
  {
   "cell_type": "code",
   "execution_count": 27,
   "metadata": {},
   "outputs": [
    {
     "data": {
      "text/plain": [
       "5212.0"
      ]
     },
     "execution_count": 27,
     "metadata": {},
     "output_type": "execute_result"
    }
   ],
   "source": [
    "memory_2-memory_1"
   ]
  },
  {
   "cell_type": "code",
   "execution_count": 29,
   "metadata": {},
   "outputs": [
    {
     "data": {
      "text/plain": [
       "0"
      ]
     },
     "execution_count": 29,
     "metadata": {},
     "output_type": "execute_result"
    }
   ],
   "source": [
    "import gc\n",
    "del gaussian\n",
    "del kernel\n",
    "gc.collect()"
   ]
  },
  {
   "cell_type": "code",
   "execution_count": 32,
   "metadata": {},
   "outputs": [
    {
     "data": {
      "text/plain": [
       "4447788.0"
      ]
     },
     "execution_count": 32,
     "metadata": {},
     "output_type": "execute_result"
    }
   ],
   "source": [
    "pid = os.getpid()\n",
    "p = psutil.Process(pid)\n",
    "info = p.memory_full_info()\n",
    "memory_1 = info.uss/1024\n",
    "memory_1"
   ]
  },
  {
   "cell_type": "markdown",
   "metadata": {},
   "source": [
    "# Test 2"
   ]
  },
  {
   "cell_type": "code",
   "execution_count": 20,
   "metadata": {
    "metadata": {}
   },
   "outputs": [],
   "source": [
    "def generate(m,i_scope,j_scope,s):\n",
    "    N = 9000\n",
    "    spatial = []\n",
    "    dependency = []\n",
    "    for i in range(m):\n",
    "        for j in range(m):\n",
    "            spatial.append(np.random.multivariate_normal(0.5*np.array([j-1,1-i]),np.identity(2)*0.7,s))\n",
    "            d = []\n",
    "            for i_i in range(i-i_scope,i+1):\n",
    "                for j_j in range(j-j_scope,j+j_scope+1):\n",
    "                    if i_i > -1 and j_j > -1 and j_j < m and not(i_i == i and j_j > j):\n",
    "                        d.append((i_i)*m+j_j)\n",
    "            d.pop()\n",
    "            dependency.append(d)\n",
    "    spatial = np.vstack(spatial)\n",
    "    ss_loc = [list(range(s*i, s*(i+1))) for i in range(m**2)]\n",
    "    return spatial,ss_loc,dependency\n",
    "    "
   ]
  },
  {
   "cell_type": "code",
   "execution_count": 21,
   "metadata": {
    "metadata": {}
   },
   "outputs": [],
   "source": [
    "def pseudo_sim(mean,cov,N,g):\n",
    "    ind = np.linspace(0,N,10,dtype=int)\n",
    "    for i in range(9):\n",
    "        new = np.random.multivariate_normal(mean[ind[i]:ind[i+1]],cov[ind[i]:ind[i+1],ind[i]:ind[i+1]]+np.identity(ind[i+1]-ind[i]),g)\n",
    "        Y =  new if i==0 else np.hstack((Y,new))\n",
    "    return Y"
   ]
  },
  {
   "cell_type": "code",
   "execution_count": 22,
   "metadata": {},
   "outputs": [],
   "source": [
    "spatial,ss_loc,dependency = generate(30,3,3,5)\n",
    "N = 5*30**2\n",
    "mean = np.zeros(N)\n",
    "cov = RBF_kernel(spatial,0.8)\n",
    "Y = np.random.multivariate_normal(mean,cov+np.identity(N),5)"
   ]
  },
  {
   "cell_type": "code",
   "execution_count": 23,
   "metadata": {},
   "outputs": [],
   "source": [
    "likelihood = multivariate_normal.logpdf(Y, mean, cov+np.identity(N))"
   ]
  },
  {
   "cell_type": "code",
   "execution_count": 24,
   "metadata": {},
   "outputs": [
    {
     "data": {
      "text/plain": [
       "array([-6783.92715779, -6734.87975048, -6698.09411776, -6687.80778064,\n",
       "       -6729.75249147])"
      ]
     },
     "execution_count": 24,
     "metadata": {},
     "output_type": "execute_result"
    }
   ],
   "source": [
    "likelihood"
   ]
  },
  {
   "cell_type": "code",
   "execution_count": 25,
   "metadata": {},
   "outputs": [],
   "source": [
    "kernel = Kernel(spatial,ss_loc,cov=cov,dependency=dependency)\n",
    "gaussian = Gaussian(kernel)\n",
    "likelihood_1 = gaussian.ll_sep(Y.T)"
   ]
  },
  {
   "cell_type": "code",
   "execution_count": 26,
   "metadata": {},
   "outputs": [
    {
     "data": {
      "text/plain": [
       "array([-6827.17356776, -6764.96618717, -6732.45247582, -6744.98220111,\n",
       "       -6779.65105874])"
      ]
     },
     "execution_count": 26,
     "metadata": {},
     "output_type": "execute_result"
    }
   ],
   "source": [
    "likelihood_1"
   ]
  },
  {
   "cell_type": "code",
   "execution_count": 20,
   "metadata": {},
   "outputs": [
    {
     "data": {
      "text/plain": [
       "array([-6.35247096e-13, -4.70420581e-13, -4.49749400e-13, ...,\n",
       "        7.57788655e+01,  7.60803136e+01,  8.04527547e+01])"
      ]
     },
     "execution_count": 20,
     "metadata": {},
     "output_type": "execute_result"
    }
   ],
   "source": [
    "np.linalg.eigvalsh(cov)"
   ]
  },
  {
   "cell_type": "code",
   "execution_count": 11,
   "metadata": {},
   "outputs": [
    {
     "ename": "KeyboardInterrupt",
     "evalue": "",
     "output_type": "error",
     "traceback": [
      "\u001b[0;31m---------------------------------------------------------------------------\u001b[0m",
      "\u001b[0;31mKeyboardInterrupt\u001b[0m                         Traceback (most recent call last)",
      "Cell \u001b[0;32mIn[11], line 23\u001b[0m\n\u001b[1;32m     20\u001b[0m time_0 \u001b[38;5;241m=\u001b[39m end_time \u001b[38;5;241m-\u001b[39m start_time                    \n\u001b[1;32m     22\u001b[0m start_time\u001b[38;5;241m=\u001b[39mtime\u001b[38;5;241m.\u001b[39mtime()\n\u001b[0;32m---> 23\u001b[0m likelihood \u001b[38;5;241m=\u001b[39m multivariate_normal\u001b[38;5;241m.\u001b[39mlogpdf(Y, mean, cov\u001b[38;5;241m+\u001b[39mnp\u001b[38;5;241m.\u001b[39midentity(N))\n\u001b[1;32m     24\u001b[0m end_time\u001b[38;5;241m=\u001b[39mtime\u001b[38;5;241m.\u001b[39mtime()\n\u001b[1;32m     25\u001b[0m time_1 \u001b[38;5;241m=\u001b[39m end_time \u001b[38;5;241m-\u001b[39m start_time\n",
      "File \u001b[0;32m/mnt/jackywang/nfs_share/anaconda3/envs/biotransfer/lib/python3.11/site-packages/scipy/stats/_multivariate.py:560\u001b[0m, in \u001b[0;36mmultivariate_normal_gen.logpdf\u001b[0;34m(self, x, mean, cov, allow_singular)\u001b[0m\n\u001b[1;32m    541\u001b[0m \u001b[38;5;28;01mdef\u001b[39;00m \u001b[38;5;21mlogpdf\u001b[39m(\u001b[38;5;28mself\u001b[39m, x, mean\u001b[38;5;241m=\u001b[39m\u001b[38;5;28;01mNone\u001b[39;00m, cov\u001b[38;5;241m=\u001b[39m\u001b[38;5;241m1\u001b[39m, allow_singular\u001b[38;5;241m=\u001b[39m\u001b[38;5;28;01mFalse\u001b[39;00m):\n\u001b[1;32m    542\u001b[0m \u001b[38;5;250m    \u001b[39m\u001b[38;5;124;03m\"\"\"Log of the multivariate normal probability density function.\u001b[39;00m\n\u001b[1;32m    543\u001b[0m \n\u001b[1;32m    544\u001b[0m \u001b[38;5;124;03m    Parameters\u001b[39;00m\n\u001b[0;32m   (...)\u001b[0m\n\u001b[1;32m    558\u001b[0m \n\u001b[1;32m    559\u001b[0m \u001b[38;5;124;03m    \"\"\"\u001b[39;00m\n\u001b[0;32m--> 560\u001b[0m     params \u001b[38;5;241m=\u001b[39m \u001b[38;5;28mself\u001b[39m\u001b[38;5;241m.\u001b[39m_process_parameters(mean, cov, allow_singular)\n\u001b[1;32m    561\u001b[0m     dim, mean, cov_object \u001b[38;5;241m=\u001b[39m params\n\u001b[1;32m    562\u001b[0m     x \u001b[38;5;241m=\u001b[39m \u001b[38;5;28mself\u001b[39m\u001b[38;5;241m.\u001b[39m_process_quantiles(x, dim)\n",
      "File \u001b[0;32m/mnt/jackywang/nfs_share/anaconda3/envs/biotransfer/lib/python3.11/site-packages/scipy/stats/_multivariate.py:424\u001b[0m, in \u001b[0;36mmultivariate_normal_gen._process_parameters\u001b[0;34m(self, mean, cov, allow_singular)\u001b[0m\n\u001b[1;32m    417\u001b[0m dim, mean, cov \u001b[38;5;241m=\u001b[39m \u001b[38;5;28mself\u001b[39m\u001b[38;5;241m.\u001b[39m_process_parameters_psd(\u001b[38;5;28;01mNone\u001b[39;00m, mean, cov)\n\u001b[1;32m    418\u001b[0m \u001b[38;5;66;03m# After input validation, some methods then processed the arrays\u001b[39;00m\n\u001b[1;32m    419\u001b[0m \u001b[38;5;66;03m# with a `_PSD` object and used that to perform computation.\u001b[39;00m\n\u001b[1;32m    420\u001b[0m \u001b[38;5;66;03m# To avoid branching statements in each method depending on whether\u001b[39;00m\n\u001b[1;32m    421\u001b[0m \u001b[38;5;66;03m# `cov` is an array or `Covariance` object, we always process the\u001b[39;00m\n\u001b[1;32m    422\u001b[0m \u001b[38;5;66;03m# array with `_PSD`, and then use wrapper that satisfies the\u001b[39;00m\n\u001b[1;32m    423\u001b[0m \u001b[38;5;66;03m# `Covariance` interface, `CovViaPSD`.\u001b[39;00m\n\u001b[0;32m--> 424\u001b[0m psd \u001b[38;5;241m=\u001b[39m _PSD(cov, allow_singular\u001b[38;5;241m=\u001b[39mallow_singular)\n\u001b[1;32m    425\u001b[0m cov_object \u001b[38;5;241m=\u001b[39m _covariance\u001b[38;5;241m.\u001b[39mCovViaPSD(psd)\n\u001b[1;32m    426\u001b[0m \u001b[38;5;28;01mreturn\u001b[39;00m dim, mean, cov_object\n",
      "File \u001b[0;32m/mnt/jackywang/nfs_share/anaconda3/envs/biotransfer/lib/python3.11/site-packages/scipy/stats/_multivariate.py:167\u001b[0m, in \u001b[0;36m_PSD.__init__\u001b[0;34m(self, M, cond, rcond, lower, check_finite, allow_singular)\u001b[0m\n\u001b[1;32m    162\u001b[0m \u001b[38;5;28mself\u001b[39m\u001b[38;5;241m.\u001b[39m_M \u001b[38;5;241m=\u001b[39m np\u001b[38;5;241m.\u001b[39masarray(M)\n\u001b[1;32m    164\u001b[0m \u001b[38;5;66;03m# Compute the symmetric eigendecomposition.\u001b[39;00m\n\u001b[1;32m    165\u001b[0m \u001b[38;5;66;03m# Note that eigh takes care of array conversion, chkfinite,\u001b[39;00m\n\u001b[1;32m    166\u001b[0m \u001b[38;5;66;03m# and assertion that the matrix is square.\u001b[39;00m\n\u001b[0;32m--> 167\u001b[0m s, u \u001b[38;5;241m=\u001b[39m scipy\u001b[38;5;241m.\u001b[39mlinalg\u001b[38;5;241m.\u001b[39meigh(M, lower\u001b[38;5;241m=\u001b[39mlower, check_finite\u001b[38;5;241m=\u001b[39mcheck_finite)\n\u001b[1;32m    169\u001b[0m eps \u001b[38;5;241m=\u001b[39m _eigvalsh_to_eps(s, cond, rcond)\n\u001b[1;32m    170\u001b[0m \u001b[38;5;66;03m#print('eps:',eps)\u001b[39;00m\n",
      "File \u001b[0;32m/mnt/jackywang/nfs_share/anaconda3/envs/biotransfer/lib/python3.11/site-packages/scipy/linalg/_decomp.py:560\u001b[0m, in \u001b[0;36meigh\u001b[0;34m(a, b, lower, eigvals_only, overwrite_a, overwrite_b, turbo, eigvals, type, check_finite, subset_by_index, subset_by_value, driver)\u001b[0m\n\u001b[1;32m    557\u001b[0m         lwork_args \u001b[38;5;241m=\u001b[39m {\u001b[38;5;124m'\u001b[39m\u001b[38;5;124mlwork\u001b[39m\u001b[38;5;124m'\u001b[39m: lw}\n\u001b[1;32m    559\u001b[0m     drv_args\u001b[38;5;241m.\u001b[39mupdate({\u001b[38;5;124m'\u001b[39m\u001b[38;5;124mlower\u001b[39m\u001b[38;5;124m'\u001b[39m: lower, \u001b[38;5;124m'\u001b[39m\u001b[38;5;124mcompute_v\u001b[39m\u001b[38;5;124m'\u001b[39m: \u001b[38;5;241m0\u001b[39m \u001b[38;5;28;01mif\u001b[39;00m _job \u001b[38;5;241m==\u001b[39m \u001b[38;5;124m\"\u001b[39m\u001b[38;5;124mN\u001b[39m\u001b[38;5;124m\"\u001b[39m \u001b[38;5;28;01melse\u001b[39;00m \u001b[38;5;241m1\u001b[39m})\n\u001b[0;32m--> 560\u001b[0m     w, v, \u001b[38;5;241m*\u001b[39mother_args, info \u001b[38;5;241m=\u001b[39m drv(a\u001b[38;5;241m=\u001b[39ma1, \u001b[38;5;241m*\u001b[39m\u001b[38;5;241m*\u001b[39mdrv_args, \u001b[38;5;241m*\u001b[39m\u001b[38;5;241m*\u001b[39mlwork_args)\n\u001b[1;32m    562\u001b[0m \u001b[38;5;28;01melse\u001b[39;00m:  \u001b[38;5;66;03m# Generalized problem\u001b[39;00m\n\u001b[1;32m    563\u001b[0m     \u001b[38;5;66;03m# 'gvd' doesn't have lwork query\u001b[39;00m\n\u001b[1;32m    564\u001b[0m     \u001b[38;5;28;01mif\u001b[39;00m driver \u001b[38;5;241m==\u001b[39m \u001b[38;5;124m\"\u001b[39m\u001b[38;5;124mgvd\u001b[39m\u001b[38;5;124m\"\u001b[39m:\n",
      "\u001b[0;31mKeyboardInterrupt\u001b[0m: "
     ]
    }
   ],
   "source": [
    "df = pd.DataFrame(columns=['N','i','j','M','G','Numpy time','Init time','Calc time','Acc'])\n",
    "\n",
    "for m in range(20,80,5):\n",
    "    for i_scope in range(3,11,2):\n",
    "        for j_scope in range(1,9,2):\n",
    "            for s in range(8,16,2):\n",
    "                for g in range(2,52,30):\n",
    "                    N = s*m**2\n",
    "                    spatial,ss_loc,dependency = generate(m,i_scope,j_scope,s)\n",
    "\n",
    "\n",
    "                    mean = np.zeros(N)\n",
    "                    cov = laplacian_kernel(spatial)\n",
    "                    Y = np.random.multivariate_normal(mean,cov+np.identity(N),g)\n",
    "\n",
    "                    \n",
    "                    start_time=time.time()\n",
    "                    kernel = Kernel(spatial,ss_loc,cov=cov,dependency=dependency)\n",
    "                    end_time=time.time()\n",
    "                    time_0 = end_time - start_time                    \n",
    "\n",
    "                    start_time=time.time()\n",
    "                    likelihood = multivariate_normal.logpdf(Y, mean, cov+np.identity(N))\n",
    "                    end_time=time.time()\n",
    "                    time_1 = end_time - start_time\n",
    "\n",
    "                    gaussian = Gaussian(kernel)\n",
    "                    start_time=time.time()\n",
    "                    likelihood_1 = gaussian.ll_sep(Y.T)\n",
    "                    end_time=time.time()\n",
    "                    time_2 = end_time - start_time                \n",
    "                    \n",
    "                    diff = likelihood_1-likelihood\n",
    "                    acc = np.mean(diff/likelihood)\n",
    "                    df2 = {'N':N,'i':i_scope,'j':j_scope,'M':m,'G':g,'Numpy time':time_1,'Init time':time_0,'Calc time':time_2,'Acc':acc}\n",
    "                    df = df._append(df2, ignore_index = True)\n",
    "                    df.to_csv('out.csv')\n"
   ]
  },
  {
   "cell_type": "code",
   "execution_count": 5,
   "metadata": {},
   "outputs": [
    {
     "name": "stdout",
     "output_type": "stream",
     "text": [
      "[    0  4355  8711 13066 17422 21777 26133 30488 34844 39200]\n",
      "de_eig\n",
      "base_cond\n",
      "[    0  4355  8711 13066 17422 21777 26133 30488 34844 39200]\n",
      "de_eig\n",
      "base_cond\n",
      "[    0  6533 13066 19600 26133 32666 39200 45733 52266 58800]\n",
      "de_eig\n",
      "base_cond\n"
     ]
    }
   ],
   "source": [
    "# df = pd.read_csv('out_1.csv',index_col=0)\n",
    "# for m in range(70,85,5):\n",
    "#     for i_scope in range(3,11,2):\n",
    "#         for j_scope in range(1,9,2):\n",
    "#             for s in range(8,17,4):\n",
    "#                 for g in range(2,53,30):\n",
    "#                     N = s*m**2\n",
    "#                     spatial,ss_loc,dependency = generate(m,i_scope,j_scope,s)\n",
    "\n",
    "\n",
    "#                     mean = np.zeros(N)\n",
    "#                     cov = laplacian_kernel(spatial)\n",
    "#                     #Y = np.random.multivariate_normal(mean,cov+np.identity(N),g)\n",
    "#                     Y = pseudo_sim(mean,cov,N,g)\n",
    "\n",
    "                    \n",
    "#                     start_time=time.time()\n",
    "#                     kernel = Kernel(spatial,ss_loc,cov=cov,dependency=dependency)\n",
    "#                     end_time=time.time()\n",
    "#                     time_0 = end_time - start_time                    \n",
    "\n",
    "#                     start_time=time.time()\n",
    "#                     likelihood = multivariate_normal.logpdf(Y, mean, cov+np.identity(N))\n",
    "#                     end_time=time.time()\n",
    "#                     time_1 = end_time - start_time\n",
    "\n",
    "#                     gaussian = Gaussian(kernel)\n",
    "#                     start_time=time.time()\n",
    "#                     likelihood_1 = gaussian.ll_sep(Y.T)\n",
    "#                     end_time=time.time()\n",
    "#                     time_2 = end_time - start_time                \n",
    "                    \n",
    "#                     diff = likelihood_1-likelihood\n",
    "#                     acc = np.mean(diff/likelihood)\n",
    "#                     df2 = {'N':N,'i':i_scope,'j':j_scope,'M':m,'G':g,'Numpy time':time_1,'Init time':time_0,'Calc time':time_2,'Acc':acc}\n",
    "#                     df = df._append(df2, ignore_index = True)\n",
    "#                     df.to_csv('out.csv')"
   ]
  },
  {
   "cell_type": "code",
   "execution_count": 5,
   "metadata": {
    "metadata": {}
   },
   "outputs": [],
   "source": [
    "df = pd.DataFrame(columns=['N','i','j','M','G','Numpy time','Init time','Calc time','Acc'])\n",
    "\n",
    "for m in range(40,85,5):\n",
    "    for i_scope in range(1,12,3):\n",
    "        for j_scope in range(1,7,2):\n",
    "            for s in range(8,17,4):\n",
    "                for g in range(5,30,20):\n",
    "                    N = s*m**2\n",
    "                    spatial,ss_loc,dependency = generate(m,i_scope,j_scope,s)\n",
    "\n",
    "\n",
    "                    mean = np.zeros(N)\n",
    "                    cov = laplacian_kernel(spatial)\n",
    "                    #Y = np.random.multivariate_normal(mean,cov+np.identity(N),g)\n",
    "                    Y = pseudo_sim(mean,cov,N,g)\n",
    "\n",
    "                    \n",
    "                    start_time=time.time()\n",
    "                    kernel = Kernel(spatial,ss_loc,cov=cov,dependency=dependency)\n",
    "                    end_time=time.time()\n",
    "                    time_0 = end_time - start_time     \n",
    "\n",
    "                    start_time=time.time()\n",
    "                    likelihood = multivariate_normal.logpdf(Y, mean, cov+np.identity(N))\n",
    "                    end_time=time.time()\n",
    "                    time_1 = end_time - start_time               \n",
    "\n",
    "                    gaussian = Gaussian(kernel)\n",
    "                    start_time=time.time()\n",
    "                    likelihood_1 = gaussian.ll_sep(Y.T)\n",
    "                    end_time=time.time()\n",
    "                    time_2 = end_time - start_time                \n",
    "                    \n",
    "                    diff = likelihood_1-likelihood\n",
    "                    acc = np.mean(diff/likelihood)\n",
    "                    df2 = {'N':N,'i':i_scope,'j':j_scope,'M':m,'G':g,'Numpy time':time_1,'Init time':time_0,'Calc time':time_2,'Acc':acc}\n",
    "                    df = df._append(df2, ignore_index = True)\n",
    "                    df.to_csv('out.csv')"
   ]
  }
 ],
 "metadata": {
  "kernelspec": {
   "display_name": "biotransfer",
   "language": "python",
   "name": "python3"
  },
  "language_info": {
   "codemirror_mode": {
    "name": "ipython",
    "version": 3
   },
   "file_extension": ".py",
   "mimetype": "text/x-python",
   "name": "python",
   "nbconvert_exporter": "python",
   "pygments_lexer": "ipython3",
   "version": "3.11.5"
  }
 },
 "nbformat": 4,
 "nbformat_minor": 2
}
